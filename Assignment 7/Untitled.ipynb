{
 "cells": [
  {
   "cell_type": "code",
   "execution_count": 1,
   "id": "67ccd12c-c1fa-437d-99a0-49c45e3615a2",
   "metadata": {},
   "outputs": [
    {
     "name": "stderr",
     "output_type": "stream",
     "text": [
      "[nltk_data] Downloading package punkt to\n",
      "[nltk_data]     C:\\Users\\adity\\AppData\\Roaming\\nltk_data...\n",
      "[nltk_data]   Unzipping tokenizers\\punkt.zip.\n",
      "[nltk_data] Downloading package stopwords to\n",
      "[nltk_data]     C:\\Users\\adity\\AppData\\Roaming\\nltk_data...\n",
      "[nltk_data]   Unzipping corpora\\stopwords.zip.\n",
      "[nltk_data] Downloading package wordnet to\n",
      "[nltk_data]     C:\\Users\\adity\\AppData\\Roaming\\nltk_data...\n",
      "[nltk_data] Downloading package averaged_perceptron_tagger to\n",
      "[nltk_data]     C:\\Users\\adity\\AppData\\Roaming\\nltk_data...\n",
      "[nltk_data]   Unzipping taggers\\averaged_perceptron_tagger.zip.\n"
     ]
    },
    {
     "data": {
      "text/plain": [
       "True"
      ]
     },
     "execution_count": 1,
     "metadata": {},
     "output_type": "execute_result"
    }
   ],
   "source": [
    "import nltk\n",
    "nltk.download(\"punkt\")\n",
    "nltk.download(\"stopwords\")\n",
    "nltk.download(\"wordnet\")\n",
    "nltk.download(\"averaged_perceptron_tagger\")"
   ]
  },
  {
   "cell_type": "code",
   "execution_count": 2,
   "id": "c7399ba1-bab2-46be-94d9-39183a5d062d",
   "metadata": {},
   "outputs": [],
   "source": [
    "from nltk import word_tokenize, sent_tokenize"
   ]
  },
  {
   "cell_type": "code",
   "execution_count": 3,
   "id": "dac20f2a-5cb1-454e-ba6a-64ca51d9e74d",
   "metadata": {},
   "outputs": [],
   "source": [
    "corpus = \"Sachin was the GOAT of the previous generation. Virat is the GOAT of this generation. Shubman will be the GOAT of the next generation\"\n",
    "     "
   ]
  },
  {
   "cell_type": "code",
   "execution_count": 4,
   "id": "5c68f92e-be2b-4dde-a52a-23061a13d22e",
   "metadata": {},
   "outputs": [
    {
     "name": "stdout",
     "output_type": "stream",
     "text": [
      "['Sachin', 'was', 'the', 'GOAT', 'of', 'the', 'previous', 'generation', '.', 'Virat', 'is', 'the', 'GOAT', 'of', 'this', 'generation', '.', 'Shubman', 'will', 'be', 'the', 'GOAT', 'of', 'the', 'next', 'generation']\n",
      "['Sachin was the GOAT of the previous generation.', 'Virat is the GOAT of this generation.', 'Shubman will be the GOAT of the next generation']\n"
     ]
    }
   ],
   "source": [
    "print(word_tokenize(corpus))\n",
    "print(sent_tokenize(corpus))"
   ]
  },
  {
   "cell_type": "code",
   "execution_count": 5,
   "id": "d90582dd-a9c7-4bb0-bc29-07f6b2f7cdff",
   "metadata": {},
   "outputs": [],
   "source": [
    "from nltk import pos_tag"
   ]
  },
  {
   "cell_type": "code",
   "execution_count": 6,
   "id": "0b5052c2-bb02-47fc-856a-394d0242cad1",
   "metadata": {},
   "outputs": [
    {
     "name": "stdout",
     "output_type": "stream",
     "text": [
      "[('Sachin', 'NNP'), ('was', 'VBD'), ('the', 'DT'), ('GOAT', 'NNP'), ('of', 'IN'), ('the', 'DT'), ('previous', 'JJ'), ('generation', 'NN'), ('.', '.'), ('Virat', 'NNP'), ('is', 'VBZ'), ('the', 'DT'), ('GOAT', 'NNP'), ('of', 'IN'), ('this', 'DT'), ('generation', 'NN'), ('.', '.'), ('Shubman', 'NNP'), ('will', 'MD'), ('be', 'VB'), ('the', 'DT'), ('GOAT', 'NNP'), ('of', 'IN'), ('the', 'DT'), ('next', 'JJ'), ('generation', 'NN')]\n"
     ]
    }
   ],
   "source": [
    "tokens = word_tokenize(corpus)\n",
    "print(pos_tag(tokens))"
   ]
  },
  {
   "cell_type": "code",
   "execution_count": 7,
   "id": "6494bfcd-1cc9-439d-bb05-15157fa2cea1",
   "metadata": {},
   "outputs": [],
   "source": [
    "from nltk.corpus import stopwords\n",
    "stop_words = set(stopwords.words(\"english\"))\n",
    "     "
   ]
  },
  {
   "cell_type": "code",
   "execution_count": 8,
   "id": "5d161d38-d962-4364-a985-a8425e6eb271",
   "metadata": {},
   "outputs": [
    {
     "name": "stdout",
     "output_type": "stream",
     "text": [
      "['Sachin', 'GOAT', 'previous', 'generation', '.', 'Virat', 'GOAT', 'generation', '.', 'Shubman', 'GOAT', 'next', 'generation']\n"
     ]
    }
   ],
   "source": [
    "tokens = word_tokenize(corpus)\n",
    "cleaned_tokens = []\n",
    "for token in tokens:\n",
    "  if (token not in stop_words):\n",
    "    cleaned_tokens.append(token)\n",
    "print(cleaned_tokens)"
   ]
  },
  {
   "cell_type": "code",
   "execution_count": 9,
   "id": "f430402a-68f0-4654-b96f-893428d0cffc",
   "metadata": {},
   "outputs": [],
   "source": [
    "from nltk.stem import PorterStemmer"
   ]
  },
  {
   "cell_type": "code",
   "execution_count": 10,
   "id": "852d782e-c79d-4b14-8a2c-c78c93a48b1a",
   "metadata": {},
   "outputs": [],
   "source": [
    "stemmer = PorterStemmer()"
   ]
  },
  {
   "cell_type": "code",
   "execution_count": 11,
   "id": "7ea943dc-85f6-452b-8f27-2fec246bddc4",
   "metadata": {},
   "outputs": [
    {
     "name": "stdout",
     "output_type": "stream",
     "text": [
      "['sachin', 'goat', 'previou', 'gener', '.', 'virat', 'goat', 'gener', '.', 'shubman', 'goat', 'next', 'gener']\n"
     ]
    }
   ],
   "source": [
    "stemmed_tokens = []\n",
    "for token in cleaned_tokens:\n",
    "  stemmed = stemmer.stem(token)\n",
    "  stemmed_tokens.append(stemmed)\n",
    "print(stemmed_tokens)"
   ]
  },
  {
   "cell_type": "code",
   "execution_count": 12,
   "id": "a9c884ed-e7a2-4ae2-86dd-13f39c1dd768",
   "metadata": {},
   "outputs": [],
   "source": [
    "from nltk.stem import WordNetLemmatizer"
   ]
  },
  {
   "cell_type": "code",
   "execution_count": 13,
   "id": "a4efc285-56ab-4051-9864-f91a6dfc5230",
   "metadata": {},
   "outputs": [],
   "source": [
    "lemmatizer = WordNetLemmatizer()"
   ]
  },
  {
   "cell_type": "code",
   "execution_count": 14,
   "id": "f0892b45-babb-45ee-8841-644a3bc782cf",
   "metadata": {},
   "outputs": [
    {
     "name": "stdout",
     "output_type": "stream",
     "text": [
      "['Sachin', 'GOAT', 'previous', 'generation', '.', 'Virat', 'GOAT', 'generation', '.', 'Shubman', 'GOAT', 'next', 'generation']\n"
     ]
    }
   ],
   "source": [
    "lemmatized_tokens = []\n",
    "for token in cleaned_tokens:\n",
    "  lemmatized = lemmatizer.lemmatize(token)\n",
    "  lemmatized_tokens.append(lemmatized)\n",
    "print(lemmatized_tokens)\n",
    "     "
   ]
  },
  {
   "cell_type": "code",
   "execution_count": 15,
   "id": "425d20e4-7f51-4b9c-b037-82bbf626d853",
   "metadata": {},
   "outputs": [],
   "source": [
    "from sklearn.feature_extraction.text import TfidfVectorizer"
   ]
  },
  {
   "cell_type": "code",
   "execution_count": 16,
   "id": "e0444820-23d5-48e2-a12f-4f63e977bae0",
   "metadata": {},
   "outputs": [],
   "source": [
    "corpus = [\n",
    "    \"Sachin was the GOAT of the previous generation\",\n",
    "    \"Virat is the GOAT of the this generation\",\n",
    "    \"Shubman will be the GOAT of the next generation\"\n",
    "]"
   ]
  },
  {
   "cell_type": "code",
   "execution_count": 17,
   "id": "0f896a36-8887-4380-9e97-168ab2a689a8",
   "metadata": {},
   "outputs": [],
   "source": [
    "vectorizer = TfidfVectorizer()"
   ]
  },
  {
   "cell_type": "code",
   "execution_count": 18,
   "id": "5cd24bed-fd13-4367-9b81-cbc085d8c720",
   "metadata": {},
   "outputs": [
    {
     "data": {
      "text/plain": [
       "{'sachin': 7,\n",
       " 'was': 12,\n",
       " 'the': 9,\n",
       " 'goat': 2,\n",
       " 'of': 5,\n",
       " 'previous': 6,\n",
       " 'generation': 1,\n",
       " 'virat': 11,\n",
       " 'is': 3,\n",
       " 'this': 10,\n",
       " 'shubman': 8,\n",
       " 'will': 13,\n",
       " 'be': 0,\n",
       " 'next': 4}"
      ]
     },
     "execution_count": 18,
     "metadata": {},
     "output_type": "execute_result"
    }
   ],
   "source": [
    "matrix = vectorizer.fit(corpus)\n",
    "matrix.vocabulary_"
   ]
  },
  {
   "cell_type": "code",
   "execution_count": 19,
   "id": "bbc2c1a8-d92b-4501-a89d-f92044e02eea",
   "metadata": {},
   "outputs": [
    {
     "name": "stdout",
     "output_type": "stream",
     "text": [
      "  (0, 12)\t0.4286758743128819\n",
      "  (0, 9)\t0.5063657539459899\n",
      "  (0, 7)\t0.4286758743128819\n",
      "  (0, 6)\t0.4286758743128819\n",
      "  (0, 5)\t0.25318287697299496\n",
      "  (0, 2)\t0.25318287697299496\n",
      "  (0, 1)\t0.25318287697299496\n",
      "  (1, 11)\t0.4286758743128819\n",
      "  (1, 10)\t0.4286758743128819\n",
      "  (1, 9)\t0.5063657539459899\n",
      "  (1, 5)\t0.25318287697299496\n",
      "  (1, 3)\t0.4286758743128819\n",
      "  (1, 2)\t0.25318287697299496\n",
      "  (1, 1)\t0.25318287697299496\n",
      "  (2, 13)\t0.39400039808922477\n",
      "  (2, 9)\t0.4654059642457353\n",
      "  (2, 8)\t0.39400039808922477\n",
      "  (2, 5)\t0.23270298212286766\n",
      "  (2, 4)\t0.39400039808922477\n",
      "  (2, 2)\t0.23270298212286766\n",
      "  (2, 1)\t0.23270298212286766\n",
      "  (2, 0)\t0.39400039808922477\n"
     ]
    }
   ],
   "source": [
    "tfidf_matrix = vectorizer.transform(corpus)\n",
    "print(tfidf_matrix)"
   ]
  },
  {
   "cell_type": "code",
   "execution_count": 20,
   "id": "32df089e-d2bf-4bc1-8586-88cefcad35f9",
   "metadata": {},
   "outputs": [
    {
     "name": "stdout",
     "output_type": "stream",
     "text": [
      "['be' 'generation' 'goat' 'is' 'next' 'of' 'previous' 'sachin' 'shubman'\n",
      " 'the' 'this' 'virat' 'was' 'will']\n"
     ]
    }
   ],
   "source": [
    "print(vectorizer.get_feature_names_out())"
   ]
  },
  {
   "cell_type": "code",
   "execution_count": null,
   "id": "acfeb774-45d4-4bc1-a640-80f743e71a00",
   "metadata": {},
   "outputs": [],
   "source": []
  }
 ],
 "metadata": {
  "kernelspec": {
   "display_name": "Python 3 (ipykernel)",
   "language": "python",
   "name": "python3"
  },
  "language_info": {
   "codemirror_mode": {
    "name": "ipython",
    "version": 3
   },
   "file_extension": ".py",
   "mimetype": "text/x-python",
   "name": "python",
   "nbconvert_exporter": "python",
   "pygments_lexer": "ipython3",
   "version": "3.11.7"
  }
 },
 "nbformat": 4,
 "nbformat_minor": 5
}
