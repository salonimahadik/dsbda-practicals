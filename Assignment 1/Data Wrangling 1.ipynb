{
 "cells": [
  {
   "cell_type": "code",
   "execution_count": 1,
   "id": "670851c1-a9b5-42ce-8c5d-fdf4e554ffe5",
   "metadata": {},
   "outputs": [
    {
     "name": "stdout",
     "output_type": "stream",
     "text": [
      "          day  temperature  windspeed   event  duration\n",
      "0  01-01-2017         32.0        6.0    Rain         2\n",
      "1  01-04-2017          NaN        9.0   Sunny         3\n",
      "2  01-05-2017         28.0        NaN    Snow         4\n",
      "3  01-06-2017          NaN        7.0     NaN         5\n",
      "4  01-07-2017         32.0        NaN    Rain         7\n",
      "5  01-08-2017          NaN        NaN   Sunny         5\n",
      "6  01-09-2017          NaN        NaN     NaN         6\n",
      "7  01-10-2017         34.0        8.0  Cloudy         4\n",
      "8  01-11-2017         40.0       12.0   Sunny         2\n"
     ]
    }
   ],
   "source": [
    "import pandas as pd\n",
    "\n",
    "df=pd.read_csv(\"weather_data.csv\")\n",
    "print(df)"
   ]
  },
  {
   "cell_type": "code",
   "execution_count": 3,
   "id": "812380df-7860-47c8-8cdf-bcdbf09300b6",
   "metadata": {},
   "outputs": [
    {
     "data": {
      "text/html": [
       "<div>\n",
       "<style scoped>\n",
       "    .dataframe tbody tr th:only-of-type {\n",
       "        vertical-align: middle;\n",
       "    }\n",
       "\n",
       "    .dataframe tbody tr th {\n",
       "        vertical-align: top;\n",
       "    }\n",
       "\n",
       "    .dataframe thead th {\n",
       "        text-align: right;\n",
       "    }\n",
       "</style>\n",
       "<table border=\"1\" class=\"dataframe\">\n",
       "  <thead>\n",
       "    <tr style=\"text-align: right;\">\n",
       "      <th></th>\n",
       "      <th>day</th>\n",
       "      <th>temperature</th>\n",
       "      <th>windspeed</th>\n",
       "      <th>event</th>\n",
       "      <th>duration</th>\n",
       "    </tr>\n",
       "  </thead>\n",
       "  <tbody>\n",
       "    <tr>\n",
       "      <th>0</th>\n",
       "      <td>01-01-2017</td>\n",
       "      <td>32.0</td>\n",
       "      <td>6.0</td>\n",
       "      <td>Rain</td>\n",
       "      <td>2</td>\n",
       "    </tr>\n",
       "    <tr>\n",
       "      <th>1</th>\n",
       "      <td>01-04-2017</td>\n",
       "      <td>NaN</td>\n",
       "      <td>9.0</td>\n",
       "      <td>Sunny</td>\n",
       "      <td>3</td>\n",
       "    </tr>\n",
       "    <tr>\n",
       "      <th>2</th>\n",
       "      <td>01-05-2017</td>\n",
       "      <td>28.0</td>\n",
       "      <td>NaN</td>\n",
       "      <td>Snow</td>\n",
       "      <td>4</td>\n",
       "    </tr>\n",
       "    <tr>\n",
       "      <th>3</th>\n",
       "      <td>01-06-2017</td>\n",
       "      <td>NaN</td>\n",
       "      <td>7.0</td>\n",
       "      <td>NaN</td>\n",
       "      <td>5</td>\n",
       "    </tr>\n",
       "    <tr>\n",
       "      <th>4</th>\n",
       "      <td>01-07-2017</td>\n",
       "      <td>32.0</td>\n",
       "      <td>NaN</td>\n",
       "      <td>Rain</td>\n",
       "      <td>7</td>\n",
       "    </tr>\n",
       "  </tbody>\n",
       "</table>\n",
       "</div>"
      ],
      "text/plain": [
       "          day  temperature  windspeed  event  duration\n",
       "0  01-01-2017         32.0        6.0   Rain         2\n",
       "1  01-04-2017          NaN        9.0  Sunny         3\n",
       "2  01-05-2017         28.0        NaN   Snow         4\n",
       "3  01-06-2017          NaN        7.0    NaN         5\n",
       "4  01-07-2017         32.0        NaN   Rain         7"
      ]
     },
     "execution_count": 3,
     "metadata": {},
     "output_type": "execute_result"
    }
   ],
   "source": [
    "df.head() #-----Gives first 5  rows of the dataframe"
   ]
  },
  {
   "cell_type": "code",
   "execution_count": 4,
   "id": "899c0563-ce94-42ba-b163-34d210682eae",
   "metadata": {},
   "outputs": [
    {
     "data": {
      "text/html": [
       "<div>\n",
       "<style scoped>\n",
       "    .dataframe tbody tr th:only-of-type {\n",
       "        vertical-align: middle;\n",
       "    }\n",
       "\n",
       "    .dataframe tbody tr th {\n",
       "        vertical-align: top;\n",
       "    }\n",
       "\n",
       "    .dataframe thead th {\n",
       "        text-align: right;\n",
       "    }\n",
       "</style>\n",
       "<table border=\"1\" class=\"dataframe\">\n",
       "  <thead>\n",
       "    <tr style=\"text-align: right;\">\n",
       "      <th></th>\n",
       "      <th>day</th>\n",
       "      <th>temperature</th>\n",
       "      <th>windspeed</th>\n",
       "      <th>event</th>\n",
       "      <th>duration</th>\n",
       "    </tr>\n",
       "  </thead>\n",
       "  <tbody>\n",
       "    <tr>\n",
       "      <th>4</th>\n",
       "      <td>01-07-2017</td>\n",
       "      <td>32.0</td>\n",
       "      <td>NaN</td>\n",
       "      <td>Rain</td>\n",
       "      <td>7</td>\n",
       "    </tr>\n",
       "    <tr>\n",
       "      <th>5</th>\n",
       "      <td>01-08-2017</td>\n",
       "      <td>NaN</td>\n",
       "      <td>NaN</td>\n",
       "      <td>Sunny</td>\n",
       "      <td>5</td>\n",
       "    </tr>\n",
       "    <tr>\n",
       "      <th>6</th>\n",
       "      <td>01-09-2017</td>\n",
       "      <td>NaN</td>\n",
       "      <td>NaN</td>\n",
       "      <td>NaN</td>\n",
       "      <td>6</td>\n",
       "    </tr>\n",
       "    <tr>\n",
       "      <th>7</th>\n",
       "      <td>01-10-2017</td>\n",
       "      <td>34.0</td>\n",
       "      <td>8.0</td>\n",
       "      <td>Cloudy</td>\n",
       "      <td>4</td>\n",
       "    </tr>\n",
       "    <tr>\n",
       "      <th>8</th>\n",
       "      <td>01-11-2017</td>\n",
       "      <td>40.0</td>\n",
       "      <td>12.0</td>\n",
       "      <td>Sunny</td>\n",
       "      <td>2</td>\n",
       "    </tr>\n",
       "  </tbody>\n",
       "</table>\n",
       "</div>"
      ],
      "text/plain": [
       "          day  temperature  windspeed   event  duration\n",
       "4  01-07-2017         32.0        NaN    Rain         7\n",
       "5  01-08-2017          NaN        NaN   Sunny         5\n",
       "6  01-09-2017          NaN        NaN     NaN         6\n",
       "7  01-10-2017         34.0        8.0  Cloudy         4\n",
       "8  01-11-2017         40.0       12.0   Sunny         2"
      ]
     },
     "execution_count": 4,
     "metadata": {},
     "output_type": "execute_result"
    }
   ],
   "source": [
    "df.tail() #------Gives last 5  rows of the dataframe"
   ]
  },
  {
   "cell_type": "code",
   "execution_count": 5,
   "id": "fb3e76d1-81c4-4147-961b-ffbe1d7e2753",
   "metadata": {},
   "outputs": [
    {
     "data": {
      "text/html": [
       "<div>\n",
       "<style scoped>\n",
       "    .dataframe tbody tr th:only-of-type {\n",
       "        vertical-align: middle;\n",
       "    }\n",
       "\n",
       "    .dataframe tbody tr th {\n",
       "        vertical-align: top;\n",
       "    }\n",
       "\n",
       "    .dataframe thead th {\n",
       "        text-align: right;\n",
       "    }\n",
       "</style>\n",
       "<table border=\"1\" class=\"dataframe\">\n",
       "  <thead>\n",
       "    <tr style=\"text-align: right;\">\n",
       "      <th></th>\n",
       "      <th>temperature</th>\n",
       "      <th>windspeed</th>\n",
       "      <th>duration</th>\n",
       "    </tr>\n",
       "  </thead>\n",
       "  <tbody>\n",
       "    <tr>\n",
       "      <th>count</th>\n",
       "      <td>5.00000</td>\n",
       "      <td>5.000000</td>\n",
       "      <td>9.000000</td>\n",
       "    </tr>\n",
       "    <tr>\n",
       "      <th>mean</th>\n",
       "      <td>33.20000</td>\n",
       "      <td>8.400000</td>\n",
       "      <td>4.222222</td>\n",
       "    </tr>\n",
       "    <tr>\n",
       "      <th>std</th>\n",
       "      <td>4.38178</td>\n",
       "      <td>2.302173</td>\n",
       "      <td>1.715938</td>\n",
       "    </tr>\n",
       "    <tr>\n",
       "      <th>min</th>\n",
       "      <td>28.00000</td>\n",
       "      <td>6.000000</td>\n",
       "      <td>2.000000</td>\n",
       "    </tr>\n",
       "    <tr>\n",
       "      <th>25%</th>\n",
       "      <td>32.00000</td>\n",
       "      <td>7.000000</td>\n",
       "      <td>3.000000</td>\n",
       "    </tr>\n",
       "    <tr>\n",
       "      <th>50%</th>\n",
       "      <td>32.00000</td>\n",
       "      <td>8.000000</td>\n",
       "      <td>4.000000</td>\n",
       "    </tr>\n",
       "    <tr>\n",
       "      <th>75%</th>\n",
       "      <td>34.00000</td>\n",
       "      <td>9.000000</td>\n",
       "      <td>5.000000</td>\n",
       "    </tr>\n",
       "    <tr>\n",
       "      <th>max</th>\n",
       "      <td>40.00000</td>\n",
       "      <td>12.000000</td>\n",
       "      <td>7.000000</td>\n",
       "    </tr>\n",
       "  </tbody>\n",
       "</table>\n",
       "</div>"
      ],
      "text/plain": [
       "       temperature  windspeed  duration\n",
       "count      5.00000   5.000000  9.000000\n",
       "mean      33.20000   8.400000  4.222222\n",
       "std        4.38178   2.302173  1.715938\n",
       "min       28.00000   6.000000  2.000000\n",
       "25%       32.00000   7.000000  3.000000\n",
       "50%       32.00000   8.000000  4.000000\n",
       "75%       34.00000   9.000000  5.000000\n",
       "max       40.00000  12.000000  7.000000"
      ]
     },
     "execution_count": 5,
     "metadata": {},
     "output_type": "execute_result"
    }
   ],
   "source": [
    "df.describe()#---- Gives all the quantitative data like mean and all in rows and columns"
   ]
  },
  {
   "cell_type": "code",
   "execution_count": 16,
   "id": "cc535025-7b55-4dd6-b4b0-3c91250c3f07",
   "metadata": {},
   "outputs": [
    {
     "name": "stdout",
     "output_type": "stream",
     "text": [
      "     day  temperature  windspeed  event  duration\n",
      "0  False        False      False  False     False\n",
      "1  False         True      False  False     False\n",
      "2  False        False       True  False     False\n",
      "3  False         True      False   True     False\n",
      "4  False        False       True  False     False\n",
      "5  False         True       True  False     False\n",
      "6  False         True       True   True     False\n",
      "7  False        False      False  False     False\n",
      "8  False        False      False  False     False\n"
     ]
    }
   ],
   "source": [
    "missing_data=df.isnull() \n",
    "\n",
    "print(missing_data)#--------Prints all the null values in dataset"
   ]
  },
  {
   "cell_type": "code",
   "execution_count": 17,
   "id": "b03640c3-3768-4686-8afc-0b0a19a69852",
   "metadata": {},
   "outputs": [
    {
     "data": {
      "text/html": [
       "<div>\n",
       "<style scoped>\n",
       "    .dataframe tbody tr th:only-of-type {\n",
       "        vertical-align: middle;\n",
       "    }\n",
       "\n",
       "    .dataframe tbody tr th {\n",
       "        vertical-align: top;\n",
       "    }\n",
       "\n",
       "    .dataframe thead th {\n",
       "        text-align: right;\n",
       "    }\n",
       "</style>\n",
       "<table border=\"1\" class=\"dataframe\">\n",
       "  <thead>\n",
       "    <tr style=\"text-align: right;\">\n",
       "      <th></th>\n",
       "      <th>day</th>\n",
       "      <th>temperature</th>\n",
       "      <th>windspeed</th>\n",
       "      <th>event</th>\n",
       "      <th>duration</th>\n",
       "    </tr>\n",
       "  </thead>\n",
       "  <tbody>\n",
       "    <tr>\n",
       "      <th>0</th>\n",
       "      <td>01-01-2017</td>\n",
       "      <td>32.0</td>\n",
       "      <td>6.0</td>\n",
       "      <td>Rain</td>\n",
       "      <td>2</td>\n",
       "    </tr>\n",
       "    <tr>\n",
       "      <th>1</th>\n",
       "      <td>01-04-2017</td>\n",
       "      <td>NaN</td>\n",
       "      <td>9.0</td>\n",
       "      <td>Sunny</td>\n",
       "      <td>3</td>\n",
       "    </tr>\n",
       "    <tr>\n",
       "      <th>2</th>\n",
       "      <td>01-05-2017</td>\n",
       "      <td>28.0</td>\n",
       "      <td>NaN</td>\n",
       "      <td>Snow</td>\n",
       "      <td>4</td>\n",
       "    </tr>\n",
       "    <tr>\n",
       "      <th>3</th>\n",
       "      <td>01-06-2017</td>\n",
       "      <td>NaN</td>\n",
       "      <td>7.0</td>\n",
       "      <td>NaN</td>\n",
       "      <td>5</td>\n",
       "    </tr>\n",
       "    <tr>\n",
       "      <th>4</th>\n",
       "      <td>01-07-2017</td>\n",
       "      <td>32.0</td>\n",
       "      <td>NaN</td>\n",
       "      <td>Rain</td>\n",
       "      <td>7</td>\n",
       "    </tr>\n",
       "    <tr>\n",
       "      <th>5</th>\n",
       "      <td>01-08-2017</td>\n",
       "      <td>NaN</td>\n",
       "      <td>NaN</td>\n",
       "      <td>Sunny</td>\n",
       "      <td>5</td>\n",
       "    </tr>\n",
       "    <tr>\n",
       "      <th>6</th>\n",
       "      <td>01-09-2017</td>\n",
       "      <td>NaN</td>\n",
       "      <td>NaN</td>\n",
       "      <td>NaN</td>\n",
       "      <td>6</td>\n",
       "    </tr>\n",
       "    <tr>\n",
       "      <th>7</th>\n",
       "      <td>01-10-2017</td>\n",
       "      <td>34.0</td>\n",
       "      <td>8.0</td>\n",
       "      <td>Cloudy</td>\n",
       "      <td>4</td>\n",
       "    </tr>\n",
       "    <tr>\n",
       "      <th>8</th>\n",
       "      <td>01-11-2017</td>\n",
       "      <td>40.0</td>\n",
       "      <td>12.0</td>\n",
       "      <td>Sunny</td>\n",
       "      <td>2</td>\n",
       "    </tr>\n",
       "  </tbody>\n",
       "</table>\n",
       "</div>"
      ],
      "text/plain": [
       "          day  temperature  windspeed   event  duration\n",
       "0  01-01-2017         32.0        6.0    Rain         2\n",
       "1  01-04-2017          NaN        9.0   Sunny         3\n",
       "2  01-05-2017         28.0        NaN    Snow         4\n",
       "3  01-06-2017          NaN        7.0     NaN         5\n",
       "4  01-07-2017         32.0        NaN    Rain         7\n",
       "5  01-08-2017          NaN        NaN   Sunny         5\n",
       "6  01-09-2017          NaN        NaN     NaN         6\n",
       "7  01-10-2017         34.0        8.0  Cloudy         4\n",
       "8  01-11-2017         40.0       12.0   Sunny         2"
      ]
     },
     "execution_count": 17,
     "metadata": {},
     "output_type": "execute_result"
    }
   ],
   "source": [
    "df.dropna(axis=1)#-----Gives the column without any null values\n",
    "\n",
    "df.dropna(how='all')"
   ]
  },
  {
   "cell_type": "code",
   "execution_count": 18,
   "id": "dd8ce8ae-9805-4aec-be6e-003f46c8e4e7",
   "metadata": {},
   "outputs": [
    {
     "data": {
      "text/html": [
       "<div>\n",
       "<style scoped>\n",
       "    .dataframe tbody tr th:only-of-type {\n",
       "        vertical-align: middle;\n",
       "    }\n",
       "\n",
       "    .dataframe tbody tr th {\n",
       "        vertical-align: top;\n",
       "    }\n",
       "\n",
       "    .dataframe thead th {\n",
       "        text-align: right;\n",
       "    }\n",
       "</style>\n",
       "<table border=\"1\" class=\"dataframe\">\n",
       "  <thead>\n",
       "    <tr style=\"text-align: right;\">\n",
       "      <th></th>\n",
       "      <th>day</th>\n",
       "      <th>temperature</th>\n",
       "      <th>windspeed</th>\n",
       "      <th>event</th>\n",
       "      <th>duration</th>\n",
       "    </tr>\n",
       "  </thead>\n",
       "  <tbody>\n",
       "    <tr>\n",
       "      <th>0</th>\n",
       "      <td>01-01-2017</td>\n",
       "      <td>32.0</td>\n",
       "      <td>6.0</td>\n",
       "      <td>Rain</td>\n",
       "      <td>2</td>\n",
       "    </tr>\n",
       "    <tr>\n",
       "      <th>2</th>\n",
       "      <td>01-05-2017</td>\n",
       "      <td>28.0</td>\n",
       "      <td>NaN</td>\n",
       "      <td>Snow</td>\n",
       "      <td>4</td>\n",
       "    </tr>\n",
       "    <tr>\n",
       "      <th>4</th>\n",
       "      <td>01-07-2017</td>\n",
       "      <td>32.0</td>\n",
       "      <td>NaN</td>\n",
       "      <td>Rain</td>\n",
       "      <td>7</td>\n",
       "    </tr>\n",
       "    <tr>\n",
       "      <th>7</th>\n",
       "      <td>01-10-2017</td>\n",
       "      <td>34.0</td>\n",
       "      <td>8.0</td>\n",
       "      <td>Cloudy</td>\n",
       "      <td>4</td>\n",
       "    </tr>\n",
       "    <tr>\n",
       "      <th>8</th>\n",
       "      <td>01-11-2017</td>\n",
       "      <td>40.0</td>\n",
       "      <td>12.0</td>\n",
       "      <td>Sunny</td>\n",
       "      <td>2</td>\n",
       "    </tr>\n",
       "  </tbody>\n",
       "</table>\n",
       "</div>"
      ],
      "text/plain": [
       "          day  temperature  windspeed   event  duration\n",
       "0  01-01-2017         32.0        6.0    Rain         2\n",
       "2  01-05-2017         28.0        NaN    Snow         4\n",
       "4  01-07-2017         32.0        NaN    Rain         7\n",
       "7  01-10-2017         34.0        8.0  Cloudy         4\n",
       "8  01-11-2017         40.0       12.0   Sunny         2"
      ]
     },
     "execution_count": 18,
     "metadata": {},
     "output_type": "execute_result"
    }
   ],
   "source": [
    "# following process is to find mean of temperature and rplace it with NaN values\n",
    "df.dropna(subset=['temperature'])"
   ]
  },
  {
   "cell_type": "code",
   "execution_count": 21,
   "id": "84b09fb8-dc80-4b1e-9fb3-b4e042b1964d",
   "metadata": {},
   "outputs": [
    {
     "name": "stdout",
     "output_type": "stream",
     "text": [
      "          day  temperature  windspeed   event  duration\n",
      "0  01-01-2017         32.0        6.0    Rain         2\n",
      "1  01-04-2017         33.2        9.0   Sunny         3\n",
      "2  01-05-2017         28.0        NaN    Snow         4\n",
      "3  01-06-2017         33.2        7.0     NaN         5\n",
      "4  01-07-2017         32.0        NaN    Rain         7\n",
      "5  01-08-2017         33.2        NaN   Sunny         5\n",
      "6  01-09-2017         33.2        NaN     NaN         6\n",
      "7  01-10-2017         34.0        8.0  Cloudy         4\n",
      "8  01-11-2017         40.0       12.0   Sunny         2\n"
     ]
    }
   ],
   "source": [
    "mean_temp=df['temperature'].mean()\n",
    "# print(mean_temp)\n",
    "df['temperature']=df['temperature'].fillna(mean_temp)\n",
    "print(df)"
   ]
  },
  {
   "cell_type": "code",
   "execution_count": 22,
   "id": "bdce4763-426a-4133-ad03-959bb199042a",
   "metadata": {},
   "outputs": [
    {
     "name": "stdout",
     "output_type": "stream",
     "text": [
      "          day  temperature  windspeed   event  duration\n",
      "0  01-01-2017         32.0        6.0    Rain         2\n",
      "1  01-04-2017         33.2        9.0   Sunny         3\n",
      "2  01-05-2017         28.0        8.4    Snow         4\n",
      "3  01-06-2017         33.2        7.0     NaN         5\n",
      "4  01-07-2017         32.0        8.4    Rain         7\n",
      "5  01-08-2017         33.2        8.4   Sunny         5\n",
      "6  01-09-2017         33.2        8.4     NaN         6\n",
      "7  01-10-2017         34.0        8.0  Cloudy         4\n",
      "8  01-11-2017         40.0       12.0   Sunny         2\n"
     ]
    }
   ],
   "source": [
    "#following process is to find mean of windspeed and rplace it with NaN values\n",
    "df.dropna(subset=['windspeed'])\n",
    "mean_wspeed=df['windspeed'].mean()\n",
    "df['windspeed']=df['windspeed'].fillna(mean_wspeed)\n",
    "print(df)"
   ]
  },
  {
   "cell_type": "code",
   "execution_count": 26,
   "id": "2e2b7f9f-2529-4904-acd4-5faa5fd1f4a8",
   "metadata": {},
   "outputs": [
    {
     "name": "stdout",
     "output_type": "stream",
     "text": [
      "          day  temperature  windspeed     event  duration\n",
      "0  01-01-2017         32.0        6.0      Rain         2\n",
      "1  01-04-2017         33.2        9.0     Sunny         3\n",
      "2  01-05-2017         28.0        8.4      Snow         4\n",
      "3  01-06-2017         33.2        7.0  No_event         5\n",
      "4  01-07-2017         32.0        8.4      Rain         7\n",
      "5  01-08-2017         33.2        8.4     Sunny         5\n",
      "6  01-09-2017         33.2        8.4  No_event         6\n",
      "7  01-10-2017         34.0        8.0    Cloudy         4\n",
      "8  01-11-2017         40.0       12.0     Sunny         2\n"
     ]
    }
   ],
   "source": [
    "#process to change the categorical event \n",
    "df.dropna(subset=['event'])\n",
    "\n",
    "df['event']=df['event'].fillna(\"No_event\")\n",
    "print(df)\n"
   ]
  },
  {
   "cell_type": "code",
   "execution_count": 27,
   "id": "ede48e92-a443-448e-987f-2e984a48466f",
   "metadata": {},
   "outputs": [
    {
     "data": {
      "text/plain": [
       "day             object\n",
       "temperature    float64\n",
       "windspeed      float64\n",
       "event           object\n",
       "duration         int64\n",
       "dtype: object"
      ]
     },
     "execution_count": 27,
     "metadata": {},
     "output_type": "execute_result"
    }
   ],
   "source": [
    "df.dtypes#--------gives datatypes of the given dataset"
   ]
  },
  {
   "cell_type": "code",
   "execution_count": 28,
   "id": "dab64103-99e7-453d-9286-97c4b4390e19",
   "metadata": {},
   "outputs": [
    {
     "name": "stdout",
     "output_type": "stream",
     "text": [
      "          day  temperature  windspeed     event  duration\n",
      "0  01-01-2017         32.0        6.0      Rain         2\n",
      "1  01-04-2017         33.2        9.0     Sunny         3\n",
      "2  01-05-2017         28.0        8.4      Snow         4\n",
      "3  01-06-2017         33.2        7.0  No_event         5\n",
      "4  01-07-2017         32.0        8.4      Rain         7\n",
      "5  01-08-2017         33.2        8.4     Sunny         5\n",
      "6  01-09-2017         33.2        8.4  No_event         6\n",
      "7  01-10-2017         34.0        8.0    Cloudy         4\n",
      "8  01-11-2017         40.0       12.0     Sunny         2\n"
     ]
    }
   ],
   "source": [
    "print(df)"
   ]
  },
  {
   "cell_type": "code",
   "execution_count": null,
   "id": "e1c6eac4-ab6f-4dc6-a589-98fd6675eab2",
   "metadata": {},
   "outputs": [],
   "source": []
  }
 ],
 "metadata": {
  "kernelspec": {
   "display_name": "Python 3 (ipykernel)",
   "language": "python",
   "name": "python3"
  },
  "language_info": {
   "codemirror_mode": {
    "name": "ipython",
    "version": 3
   },
   "file_extension": ".py",
   "mimetype": "text/x-python",
   "name": "python",
   "nbconvert_exporter": "python",
   "pygments_lexer": "ipython3",
   "version": "3.11.7"
  }
 },
 "nbformat": 4,
 "nbformat_minor": 5
}
